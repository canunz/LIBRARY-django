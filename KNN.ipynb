{
  "cells": [
    {
      "cell_type": "markdown",
      "metadata": {
        "id": "view-in-github",
        "colab_type": "text"
      },
      "source": [
        "<a href=\"https://colab.research.google.com/github/canunz/LIBRARY-django/blob/main/KNN.ipynb\" target=\"_parent\"><img src=\"https://colab.research.google.com/assets/colab-badge.svg\" alt=\"Open In Colab\"/></a>"
      ]
    },
    {
      "cell_type": "markdown",
      "id": "54afe151",
      "metadata": {
        "id": "54afe151"
      },
      "source": [
        "# 📍 Clasificación con K-Nearest Neighbors (KNN)\n",
        "\n",
        "Este notebook aplica el algoritmo de **K-Vecinos más Cercanos (KNN)** para clasificar observaciones en una tarea binaria. KNN clasifica un nuevo punto según la mayoría de sus vecinos más cercanos en el espacio de características.\n",
        "\n",
        "El notebook incluye:\n",
        "\n",
        "- Escalado de características (fundamental para KNN)\n",
        "- División de datos en entrenamiento y prueba\n",
        "- Entrenamiento y predicción con `KNeighborsClassifier`\n",
        "- Evaluación con accuracy, matriz de confusión y F1-score\n",
        "- Validación cruzada para evaluar estabilidad\n",
        "- Ajuste de hiperparámetros (`n_neighbors`, `metric`, `weights`)\n",
        "- Visualización de resultados con heatmap y curva ROC\n",
        "\n",
        "KNN es simple, no paramétrico y efectivo para conjuntos de datos con relaciones espaciales claras, aunque sensible a la escala y al ruido.\n"
      ]
    },
    {
      "cell_type": "code",
      "execution_count": null,
      "id": "f029fec6",
      "metadata": {
        "colab": {
          "base_uri": "https://localhost:8080/",
          "height": 73
        },
        "id": "f029fec6",
        "outputId": "0a9824c3-2b58-4a2b-c4e7-f9d2b35bf044"
      },
      "outputs": [
        {
          "output_type": "display_data",
          "data": {
            "text/plain": [
              "<IPython.core.display.HTML object>"
            ],
            "text/html": [
              "\n",
              "     <input type=\"file\" id=\"files-691458d8-fc26-4645-b890-b687cb248d7b\" name=\"files[]\" multiple disabled\n",
              "        style=\"border:none\" />\n",
              "     <output id=\"result-691458d8-fc26-4645-b890-b687cb248d7b\">\n",
              "      Upload widget is only available when the cell has been executed in the\n",
              "      current browser session. Please rerun this cell to enable.\n",
              "      </output>\n",
              "      <script>// Copyright 2017 Google LLC\n",
              "//\n",
              "// Licensed under the Apache License, Version 2.0 (the \"License\");\n",
              "// you may not use this file except in compliance with the License.\n",
              "// You may obtain a copy of the License at\n",
              "//\n",
              "//      http://www.apache.org/licenses/LICENSE-2.0\n",
              "//\n",
              "// Unless required by applicable law or agreed to in writing, software\n",
              "// distributed under the License is distributed on an \"AS IS\" BASIS,\n",
              "// WITHOUT WARRANTIES OR CONDITIONS OF ANY KIND, either express or implied.\n",
              "// See the License for the specific language governing permissions and\n",
              "// limitations under the License.\n",
              "\n",
              "/**\n",
              " * @fileoverview Helpers for google.colab Python module.\n",
              " */\n",
              "(function(scope) {\n",
              "function span(text, styleAttributes = {}) {\n",
              "  const element = document.createElement('span');\n",
              "  element.textContent = text;\n",
              "  for (const key of Object.keys(styleAttributes)) {\n",
              "    element.style[key] = styleAttributes[key];\n",
              "  }\n",
              "  return element;\n",
              "}\n",
              "\n",
              "// Max number of bytes which will be uploaded at a time.\n",
              "const MAX_PAYLOAD_SIZE = 100 * 1024;\n",
              "\n",
              "function _uploadFiles(inputId, outputId) {\n",
              "  const steps = uploadFilesStep(inputId, outputId);\n",
              "  const outputElement = document.getElementById(outputId);\n",
              "  // Cache steps on the outputElement to make it available for the next call\n",
              "  // to uploadFilesContinue from Python.\n",
              "  outputElement.steps = steps;\n",
              "\n",
              "  return _uploadFilesContinue(outputId);\n",
              "}\n",
              "\n",
              "// This is roughly an async generator (not supported in the browser yet),\n",
              "// where there are multiple asynchronous steps and the Python side is going\n",
              "// to poll for completion of each step.\n",
              "// This uses a Promise to block the python side on completion of each step,\n",
              "// then passes the result of the previous step as the input to the next step.\n",
              "function _uploadFilesContinue(outputId) {\n",
              "  const outputElement = document.getElementById(outputId);\n",
              "  const steps = outputElement.steps;\n",
              "\n",
              "  const next = steps.next(outputElement.lastPromiseValue);\n",
              "  return Promise.resolve(next.value.promise).then((value) => {\n",
              "    // Cache the last promise value to make it available to the next\n",
              "    // step of the generator.\n",
              "    outputElement.lastPromiseValue = value;\n",
              "    return next.value.response;\n",
              "  });\n",
              "}\n",
              "\n",
              "/**\n",
              " * Generator function which is called between each async step of the upload\n",
              " * process.\n",
              " * @param {string} inputId Element ID of the input file picker element.\n",
              " * @param {string} outputId Element ID of the output display.\n",
              " * @return {!Iterable<!Object>} Iterable of next steps.\n",
              " */\n",
              "function* uploadFilesStep(inputId, outputId) {\n",
              "  const inputElement = document.getElementById(inputId);\n",
              "  inputElement.disabled = false;\n",
              "\n",
              "  const outputElement = document.getElementById(outputId);\n",
              "  outputElement.innerHTML = '';\n",
              "\n",
              "  const pickedPromise = new Promise((resolve) => {\n",
              "    inputElement.addEventListener('change', (e) => {\n",
              "      resolve(e.target.files);\n",
              "    });\n",
              "  });\n",
              "\n",
              "  const cancel = document.createElement('button');\n",
              "  inputElement.parentElement.appendChild(cancel);\n",
              "  cancel.textContent = 'Cancel upload';\n",
              "  const cancelPromise = new Promise((resolve) => {\n",
              "    cancel.onclick = () => {\n",
              "      resolve(null);\n",
              "    };\n",
              "  });\n",
              "\n",
              "  // Wait for the user to pick the files.\n",
              "  const files = yield {\n",
              "    promise: Promise.race([pickedPromise, cancelPromise]),\n",
              "    response: {\n",
              "      action: 'starting',\n",
              "    }\n",
              "  };\n",
              "\n",
              "  cancel.remove();\n",
              "\n",
              "  // Disable the input element since further picks are not allowed.\n",
              "  inputElement.disabled = true;\n",
              "\n",
              "  if (!files) {\n",
              "    return {\n",
              "      response: {\n",
              "        action: 'complete',\n",
              "      }\n",
              "    };\n",
              "  }\n",
              "\n",
              "  for (const file of files) {\n",
              "    const li = document.createElement('li');\n",
              "    li.append(span(file.name, {fontWeight: 'bold'}));\n",
              "    li.append(span(\n",
              "        `(${file.type || 'n/a'}) - ${file.size} bytes, ` +\n",
              "        `last modified: ${\n",
              "            file.lastModifiedDate ? file.lastModifiedDate.toLocaleDateString() :\n",
              "                                    'n/a'} - `));\n",
              "    const percent = span('0% done');\n",
              "    li.appendChild(percent);\n",
              "\n",
              "    outputElement.appendChild(li);\n",
              "\n",
              "    const fileDataPromise = new Promise((resolve) => {\n",
              "      const reader = new FileReader();\n",
              "      reader.onload = (e) => {\n",
              "        resolve(e.target.result);\n",
              "      };\n",
              "      reader.readAsArrayBuffer(file);\n",
              "    });\n",
              "    // Wait for the data to be ready.\n",
              "    let fileData = yield {\n",
              "      promise: fileDataPromise,\n",
              "      response: {\n",
              "        action: 'continue',\n",
              "      }\n",
              "    };\n",
              "\n",
              "    // Use a chunked sending to avoid message size limits. See b/62115660.\n",
              "    let position = 0;\n",
              "    do {\n",
              "      const length = Math.min(fileData.byteLength - position, MAX_PAYLOAD_SIZE);\n",
              "      const chunk = new Uint8Array(fileData, position, length);\n",
              "      position += length;\n",
              "\n",
              "      const base64 = btoa(String.fromCharCode.apply(null, chunk));\n",
              "      yield {\n",
              "        response: {\n",
              "          action: 'append',\n",
              "          file: file.name,\n",
              "          data: base64,\n",
              "        },\n",
              "      };\n",
              "\n",
              "      let percentDone = fileData.byteLength === 0 ?\n",
              "          100 :\n",
              "          Math.round((position / fileData.byteLength) * 100);\n",
              "      percent.textContent = `${percentDone}% done`;\n",
              "\n",
              "    } while (position < fileData.byteLength);\n",
              "  }\n",
              "\n",
              "  // All done.\n",
              "  yield {\n",
              "    response: {\n",
              "      action: 'complete',\n",
              "    }\n",
              "  };\n",
              "}\n",
              "\n",
              "scope.google = scope.google || {};\n",
              "scope.google.colab = scope.google.colab || {};\n",
              "scope.google.colab._files = {\n",
              "  _uploadFiles,\n",
              "  _uploadFilesContinue,\n",
              "};\n",
              "})(self);\n",
              "</script> "
            ]
          },
          "metadata": {}
        },
        {
          "output_type": "stream",
          "name": "stdout",
          "text": [
            "Saving datos_exportados.csv to datos_exportados.csv\n"
          ]
        }
      ],
      "source": [
        "# 📥 Subir archivo desde tu equipo (funciona en Google Colab)\n",
        "from google.colab import files\n",
        "uploaded = files.upload()\n",
        "\n",
        "import pandas as pd\n",
        "import io\n",
        "\n",
        "df = pd.read_csv(io.BytesIO(uploaded['datos_exportados.csv']))"
      ]
    },
    {
      "cell_type": "code",
      "execution_count": null,
      "id": "38ef204e",
      "metadata": {
        "id": "38ef204e"
      },
      "outputs": [],
      "source": [
        "# 🔍 Importar librerías necesarias\n",
        "from sklearn.model_selection import train_test_split\n",
        "from sklearn.preprocessing import StandardScaler\n",
        "from sklearn.metrics import accuracy_score, confusion_matrix, classification_report\n",
        "import seaborn as sns\n",
        "import matplotlib.pyplot as plt"
      ]
    },
    {
      "cell_type": "code",
      "execution_count": null,
      "id": "d3d04eae",
      "metadata": {
        "id": "d3d04eae"
      },
      "outputs": [],
      "source": [
        "# ✅ Selección de variables\n",
        "features = ['TimeAlive', 'TravelledDistance', 'RLethalGrenadesThrown', 'RNonLethalGrenadesThrown', 'PrimaryAssaultRifle', 'PrimarySniperRifle', 'PrimaryHeavy', 'PrimarySMG', 'PrimaryPistol', 'RoundKills', 'RoundAssists', 'RoundHeadshots', 'RoundFlankKills', 'RoundStartingEquipmentValue', 'TeamStartingEquipmentValue', 'MatchKills', 'MatchFlankKills', 'MatchAssists', 'MatchHeadshots']\n",
        "target = 'Survived'\n",
        "\n",
        "X = df[features]\n",
        "y = df[target]\n",
        "\n",
        "# 🔀 Separar en entrenamiento y prueba\n",
        "X_train, X_test, y_train, y_test = train_test_split(X, y, test_size=0.2, random_state=666)\n",
        "\n",
        "# ⚖️ Escalar características\n",
        "scaler = StandardScaler()\n",
        "X_train_scaled = scaler.fit_transform(X_train)\n",
        "X_test_scaled = scaler.transform(X_test)\n"
      ]
    },
    {
      "cell_type": "code",
      "execution_count": null,
      "id": "2137c08b",
      "metadata": {
        "colab": {
          "base_uri": "https://localhost:8080/"
        },
        "id": "2137c08b",
        "outputId": "c68f1022-29a9-48f6-98b2-766dff3e2417"
      },
      "outputs": [
        {
          "output_type": "stream",
          "name": "stdout",
          "text": [
            "Accuracy: 0.6311877006251055\n",
            "\n",
            "Matriz de Confusión:\n",
            "[[2385  947]\n",
            " [1236 1351]]\n",
            "\n",
            "Reporte de Clasificación:\n",
            "              precision    recall  f1-score   support\n",
            "\n",
            "           0       0.66      0.72      0.69      3332\n",
            "           1       0.59      0.52      0.55      2587\n",
            "\n",
            "    accuracy                           0.63      5919\n",
            "   macro avg       0.62      0.62      0.62      5919\n",
            "weighted avg       0.63      0.63      0.63      5919\n",
            "\n"
          ]
        }
      ],
      "source": [
        "\n",
        "from sklearn.neighbors import KNeighborsClassifier\n",
        "\n",
        "model = KNeighborsClassifier()\n",
        "model.fit(X_train_scaled, y_train)\n",
        "y_pred = model.predict(X_test_scaled)\n",
        "\n",
        "print(\"Accuracy:\", accuracy_score(y_test, y_pred))\n",
        "print(\"\\nMatriz de Confusión:\")\n",
        "print(confusion_matrix(y_test, y_pred))\n",
        "print(\"\\nReporte de Clasificación:\")\n",
        "print(classification_report(y_test, y_pred))"
      ]
    },
    {
      "cell_type": "code",
      "source": [
        "# 📊 Validación cruzada con 5 particiones\n",
        "from sklearn.model_selection import cross_val_score\n",
        "from sklearn.neighbors import KNeighborsClassifier\n",
        "\n",
        "# Crear modelo base\n",
        "knn_model = KNeighborsClassifier()\n",
        "\n",
        "# Calcular puntuaciones de validación cruzada\n",
        "cv_scores = cross_val_score(knn_model, X_train_scaled, y_train, cv=5, scoring='accuracy')\n",
        "\n",
        "# Mostrar resultados\n",
        "print(\"📊 Validación cruzada (5 folds):\")\n",
        "print(\"Scores por fold:\", cv_scores)\n",
        "print(\"Promedio de accuracy:\", cv_scores.mean())\n",
        "print(\"Desviación estándar:\", cv_scores.std())\n"
      ],
      "metadata": {
        "colab": {
          "base_uri": "https://localhost:8080/"
        },
        "id": "am5aJJWBqwzp",
        "outputId": "9b05be83-a95f-44f3-d16e-f3c849fa0389"
      },
      "id": "am5aJJWBqwzp",
      "execution_count": null,
      "outputs": [
        {
          "output_type": "stream",
          "name": "stdout",
          "text": [
            "📊 Validación cruzada (5 folds):\n",
            "Scores por fold: [0.61668427 0.62787751 0.62323126 0.62872228 0.62146177]\n",
            "Promedio de accuracy: 0.623595415491698\n",
            "Desviación estándar: 0.00440613486589192\n"
          ]
        }
      ]
    },
    {
      "cell_type": "code",
      "source": [
        "# 🔧 Ajuste de hiperparámetros usando GridSearchCV\n",
        "from sklearn.model_selection import GridSearchCV\n",
        "\n",
        "# Definir los valores de k a probar\n",
        "param_grid = {\n",
        "    'n_neighbors': [3, 5, 7, 9],\n",
        "    'weights': ['uniform', 'distance'],\n",
        "    'metric': ['euclidean', 'manhattan']\n",
        "}\n",
        "\n",
        "# Crear el clasificador base\n",
        "knn = KNeighborsClassifier()\n",
        "\n",
        "# Configurar GridSearchCV\n",
        "grid_search = GridSearchCV(knn, param_grid, cv=5, scoring='accuracy', n_jobs=-1)\n",
        "\n",
        "# Ejecutar búsqueda sobre datos escalados\n",
        "grid_search.fit(X_train_scaled, y_train)\n",
        "\n",
        "# Mostrar los mejores parámetros\n",
        "print(\"✅ Mejores parámetros encontrados:\")\n",
        "print(grid_search.best_params_)\n",
        "\n",
        "# Evaluar el mejor modelo con los datos de prueba\n",
        "best_knn = grid_search.best_estimator_\n",
        "y_pred_grid = best_knn.predict(X_test_scaled)\n",
        "\n",
        "print(\"\\n🔍 Accuracy con mejores parámetros:\", accuracy_score(y_test, y_pred_grid))\n",
        "print(\"\\n📉 Matriz de confusión:\\n\", confusion_matrix(y_test, y_pred_grid))\n",
        "print(\"\\n📋 Reporte de clasificación:\\n\", classification_report(y_test, y_pred_grid))\n"
      ],
      "metadata": {
        "colab": {
          "base_uri": "https://localhost:8080/"
        },
        "id": "pUtse7EWq93f",
        "outputId": "5beef882-4bce-4e06-8f86-91abad32bcc2"
      },
      "id": "pUtse7EWq93f",
      "execution_count": null,
      "outputs": [
        {
          "output_type": "stream",
          "name": "stdout",
          "text": [
            "✅ Mejores parámetros encontrados:\n",
            "{'metric': 'manhattan', 'n_neighbors': 9, 'weights': 'distance'}\n",
            "\n",
            "🔍 Accuracy con mejores parámetros: 0.6443656022976855\n",
            "\n",
            "📉 Matriz de confusión:\n",
            " [[2498  834]\n",
            " [1271 1316]]\n",
            "\n",
            "📋 Reporte de clasificación:\n",
            "               precision    recall  f1-score   support\n",
            "\n",
            "           0       0.66      0.75      0.70      3332\n",
            "           1       0.61      0.51      0.56      2587\n",
            "\n",
            "    accuracy                           0.64      5919\n",
            "   macro avg       0.64      0.63      0.63      5919\n",
            "weighted avg       0.64      0.64      0.64      5919\n",
            "\n"
          ]
        }
      ]
    },
    {
      "cell_type": "code",
      "source": [
        "# 📊 Visualización de la matriz de confusión con heatmap\n",
        "import seaborn as sns\n",
        "import matplotlib.pyplot as plt\n",
        "from sklearn.metrics import confusion_matrix\n",
        "\n",
        "# Crear matriz con el mejor modelo\n",
        "cm = confusion_matrix(y_test, y_pred_grid)\n",
        "\n",
        "plt.figure(figsize=(6, 4))\n",
        "sns.heatmap(cm, annot=True, fmt='d', cmap='Blues', cbar=False)\n",
        "plt.title(\"🔍 Matriz de Confusión - KNN Optimizado\")\n",
        "plt.xlabel(\"Predicción\")\n",
        "plt.ylabel(\"Real\")\n",
        "plt.show()\n"
      ],
      "metadata": {
        "colab": {
          "base_uri": "https://localhost:8080/",
          "height": 446
        },
        "id": "V18PWUR1rCF2",
        "outputId": "c06b3f65-d23d-46cd-9733-fa699c06e528"
      },
      "id": "V18PWUR1rCF2",
      "execution_count": null,
      "outputs": [
        {
          "output_type": "stream",
          "name": "stderr",
          "text": [
            "/usr/local/lib/python3.11/dist-packages/IPython/core/pylabtools.py:151: UserWarning: Glyph 128269 (\\N{LEFT-POINTING MAGNIFYING GLASS}) missing from font(s) DejaVu Sans.\n",
            "  fig.canvas.print_figure(bytes_io, **kw)\n"
          ]
        },
        {
          "output_type": "display_data",
          "data": {
            "text/plain": [
              "<Figure size 600x400 with 1 Axes>"
            ],
            "image/png": "[encoded data removed]"
          },
          "metadata": {}
        }
      ]
    },
    {
      "cell_type": "code",
      "source": [
        "# 📈 Curva ROC y AUC\n",
        "from sklearn.metrics import roc_curve, auc\n",
        "\n",
        "# Obtener las probabilidades para la clase positiva\n",
        "y_prob = best_knn.predict_proba(X_test_scaled)[:, 1]\n",
        "\n",
        "# Calcular la curva ROC\n",
        "fpr, tpr, thresholds = roc_curve(y_test, y_prob)\n",
        "roc_auc = auc(fpr, tpr)\n",
        "\n",
        "# Graficar la curva ROC\n",
        "plt.figure(figsize=(6, 4))\n",
        "plt.plot(fpr, tpr, color='darkorange', lw=2, label='AUC = %0.2f' % roc_auc)\n",
        "plt.plot([0, 1], [0, 1], color='navy', lw=2, linestyle='--')\n",
        "plt.xlabel('Tasa de Falsos Positivos (FPR)')\n",
        "plt.ylabel('Tasa de Verdaderos Positivos (TPR)')\n",
        "plt.title('📈 Curva ROC - KNN Optimizado')\n",
        "plt.legend(loc=\"lower right\")\n",
        "plt.grid(True)\n",
        "plt.show()\n"
      ],
      "metadata": {
        "colab": {
          "base_uri": "https://localhost:8080/",
          "height": 445
        },
        "id": "2xXZzhMGsSYc",
        "outputId": "5626defc-e6e5-4e3c-a026-8e782c6edcb9"
      },
      "id": "2xXZzhMGsSYc",
      "execution_count": null,
      "outputs": [
        {
          "output_type": "stream",
          "name": "stderr",
          "text": [
            "/usr/local/lib/python3.11/dist-packages/IPython/core/pylabtools.py:151: UserWarning: Glyph 128200 (\\N{CHART WITH UPWARDS TREND}) missing from font(s) DejaVu Sans.\n",
            "  fig.canvas.print_figure(bytes_io, **kw)\n"
          ]
        },
        {
          "output_type": "display_data",
          "data": {
            "text/plain": [
              "<Figure size 600x400 with 1 Axes>"
            ],
            "image/png": "[encoded data removed]"
          },
          "metadata": {}
        }
      ]
    },
    {
      "cell_type": "markdown",
      "source": [
        "###🧠 Conclusión del Modelo\n",
        "\n",
        "🔎 **Precisión global (accuracy)** del modelo optimizado fue de **0.631**, lo que significa que el modelo clasifica correctamente aproximadamente el 63.1% de los casos en los datos de prueba. Aunque no es un valor elevado, en contextos reales con datos ruidosos o clases desbalanceadas, puede considerarse aceptable para una primera aproximación. Esta métrica resume el desempeño general, pero debe ser analizada junto con otras métricas debido al posible desequilibrio entre clases.\n",
        "\n",
        "📊 **Validación cruzada (5-fold):**\n",
        "- **Scores por fold**: [0.6167, 0.6279, 0.6232, 0.6287, 0.6215]\n",
        "- **Promedio de accuracy**: **0.6236**\n",
        "- **Desviación estándar**: **0.0044**\n",
        "\n",
        "Este resultado muestra que el modelo es **estable**: su rendimiento no varía significativamente entre particiones del conjunto de entrenamiento. Aunque el accuracy promedio es bajo (alrededor de 62%), es coherente con el obtenido en test, lo que indica que el modelo no está sobreajustado y generaliza moderadamente bien.\n",
        "\n",
        "🧮 **Matriz de Confusión:**\n",
        "- **Clase 0 (no sobrevivió)**: correctamente identificada con un **recall ≈ 0.72**, lo que significa que el 72% de los casos reales de clase 0 fueron detectados por el modelo. Esto es positivo si la clase 0 es dominante.\n",
        "- **Clase 1 (sí sobrevivió)**: tiene un **recall ≈ 0.52**, es decir, solo un poco más de la mitad de los casos reales fueron correctamente clasificados. Aunque es una mejora respecto a modelos anteriores, **sigue siendo una debilidad importante** si esta clase representa eventos sensibles.\n",
        "\n",
        "📉 **Macro F1-score ≈ 0.62**: Esta métrica balancea precision y recall para ambas clases. Un valor cercano a 0.6 indica un rendimiento equilibrado pero todavía moderado. Sirve especialmente cuando las clases están desbalanceadas, como parece ser el caso aquí.\n",
        "\n",
        "📈 **Curva ROC - AUC ≈ [inserta aquí el valor real]**: Este valor representa la capacidad del modelo para distinguir entre clases. Un AUC entre 0.6 y 0.7 indica un desempeño modesto. Aunque no es ideal, sí muestra que el modelo captura cierta información útil para la clasificación.\n",
        "\n",
        "📌 **Escalado correcto con `StandardScaler`**: Este paso fue esencial dado que KNN se basa en distancias y las variables tenían diferentes magnitudes. No escalar habría perjudicado fuertemente el desempeño.\n",
        "\n",
        "⚙️ **Optimización con `GridSearchCV`**:\n",
        "Se probaron múltiples combinaciones de hiperparámetros (`n_neighbors`, `weights`, `metric`), lo que permitió mejorar la generalización del modelo. Este proceso evitó la selección arbitraria de parámetros y aportó mayor solidez al entrenamiento.\n",
        "\n",
        "🎯 **Interpretación Final y Recomendaciones**:\n",
        "- Aunque el modelo muestra resultados moderados, su estabilidad sugiere que puede ser útil como línea base.\n",
        "- El principal problema es su **capacidad limitada para detectar la clase 1**, lo cual puede ser grave si representa una situación crítica.\n",
        "- Se recomienda probar modelos como **Random Forest**, **SVM con kernel**, o **algoritmos de boosting (e.g., XGBoost)**, que tienden a capturar relaciones más complejas.\n",
        "- Además, evaluar técnicas de **balanceo de clases (SMOTE, undersampling)** podría mejorar el recall en la clase minoritaria.\n"
      ],
      "metadata": {
        "id": "bHQn01uTjXed"
      },
      "id": "bHQn01uTjXed"
    }
  ],
  "metadata": {
    "colab": {
      "provenance": [],
      "include_colab_link": true
    },
    "language_info": {
      "name": "python"
    },
    "kernelspec": {
      "name": "python3",
      "display_name": "Python 3"
    }
  },
  "nbformat": 4,
  "nbformat_minor": 5
}