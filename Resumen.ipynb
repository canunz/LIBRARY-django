{
  "nbformat": 4,
  "nbformat_minor": 0,
  "metadata": {
    "colab": {
      "provenance": [],
      "include_colab_link": true
    },
    "kernelspec": {
      "name": "python3",
      "display_name": "Python 3"
    },
    "language_info": {
      "name": "python"
    }
  },
  "cells": [
    {
      "cell_type": "markdown",
      "metadata": {
        "id": "view-in-github",
        "colab_type": "text"
      },
      "source": [
        "<a href=\"https://colab.research.google.com/github/canunz/LIBRARY-django/blob/main/Resumen.ipynb\" target=\"_parent\"><img src=\"https://colab.research.google.com/assets/colab-badge.svg\" alt=\"Open In Colab\"/></a>"
      ]
    },
    {
      "cell_type": "markdown",
      "source": [
        "| Modelo              | Accuracy | Precisión clase 1 | Recall clase 1 | F1-score clase 1 |\n",
        "|---------------------|----------|-------------------|----------------|------------------|\n",
        "| Random Forest        | 0.681    | 0.65              | 0.59           | 0.62             |\n",
        "| Regresión Logística  | 0.645    | 0.63              | 0.46           | 0.53             |\n",
        "| Árbol de Decisión    | 0.632    | 0.59              | 0.52           | 0.55             |\n",
        "| KNN                  | 0.607    | 0.55              | 0.55           | 0.55             |\n",
        "| SVM                  | 0.606    | 0.61              | 0.28           | 0.38             |\n"
      ],
      "metadata": {
        "id": "7aEVzYZUIqha"
      }
    },
    {
      "cell_type": "markdown",
      "source": [
        "🔝 1. Random Forest\n",
        "Accuracy: 0.68\n",
        "\n",
        "Precisión clase 1: 0.65\n",
        "\n",
        "Recall clase 1: 0.59\n",
        "\n",
        "F1-score clase 1: 0.62\n",
        "\n",
        "✅ Mejor modelo: alto rendimiento y equilibrio entre precisión y recall."
      ],
      "metadata": {
        "id": "otxyWVOPHD5H"
      }
    },
    {
      "cell_type": "markdown",
      "source": [
        "✅ 2. Regresión Logística\n",
        "Accuracy: 0.65\n",
        "\n",
        "Precisión clase 1: 0.63\n",
        "\n",
        "Recall clase 1: 0.46\n",
        "\n",
        "F1-score clase 1: 0.53\n",
        "\n",
        "📌 Buen rendimiento general. Balanceado, aunque menor que Random Forest."
      ],
      "metadata": {
        "id": "MbMMicSGHWyJ"
      }
    },
    {
      "cell_type": "markdown",
      "source": [
        "🟨 3. Árbol de Decisión\n",
        "Accuracy: 0.63\n",
        "\n",
        "Precisión clase 1: 0.59\n",
        "\n",
        "Recall clase 1: 0.52\n",
        "\n",
        "F1-score clase 1: 0.55\n",
        "\n",
        "📌 Resultados aceptables, pero menos precisos que los anteriores."
      ],
      "metadata": {
        "id": "0KFi7bb5HjMN"
      }
    },
    {
      "cell_type": "markdown",
      "source": [
        "⚠️ 4. KNN\n",
        "Accuracy: 0.61\n",
        "\n",
        "Precisión clase 1: 0.55\n",
        "\n",
        "Recall clase 1: 0.55\n",
        "\n",
        "F1-score clase 1: 0.55\n",
        "\n",
        "📌 Muy equilibrado, pero bajo rendimiento en general."
      ],
      "metadata": {
        "id": "Ian6bHcvH7wU"
      }
    },
    {
      "cell_type": "markdown",
      "source": [
        "🚩 5. SVM\n",
        "\n",
        "Accuracy: 0.61\n",
        "\n",
        "Precisión clase 1: 0.61\n",
        "\n",
        "Recall clase 1: 0.28\n",
        "\n",
        "F1-score clase 1: 0.38\n",
        "\n",
        "❌ Muy bajo recall en la clase 1 (no logra detectar bien esa clase)."
      ],
      "metadata": {
        "id": "fYu0JtC6H-QW"
      }
    },
    {
      "cell_type": "markdown",
      "source": [
        "El modelo más recomendable es Random Forest, porque ofrece la mejor combinación entre precisión y sensibilidad (recall).\n",
        "\n",
        "SVM no es adecuado en este caso, ya que casi no detecta correctamente la clase 1.\n",
        "\n",
        "Es importante elegir el modelo no solo por accuracy, sino por el f1-score y recall, especialmente si una clase es más importante o más difícil de detectar."
      ],
      "metadata": {
        "id": "cTN45_dBIE-k"
      }
    }
  ]
}